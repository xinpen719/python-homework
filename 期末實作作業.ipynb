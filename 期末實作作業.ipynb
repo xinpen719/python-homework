{
  "nbformat": 4,
  "nbformat_minor": 0,
  "metadata": {
    "colab": {
      "provenance": [],
      "authorship_tag": "ABX9TyOCJff/ul7zx5FNhfEwlsoQ",
      "include_colab_link": true
    },
    "kernelspec": {
      "name": "python3",
      "display_name": "Python 3"
    },
    "language_info": {
      "name": "python"
    }
  },
  "cells": [
    {
      "cell_type": "markdown",
      "metadata": {
        "id": "view-in-github",
        "colab_type": "text"
      },
      "source": [
        "<a href=\"https://colab.research.google.com/github/xinpen719/python-homework/blob/main/%E6%9C%9F%E6%9C%AB%E5%AF%A6%E4%BD%9C%E4%BD%9C%E6%A5%AD.ipynb\" target=\"_parent\"><img src=\"https://colab.research.google.com/assets/colab-badge.svg\" alt=\"Open In Colab\"/></a>"
      ]
    },
    {
      "cell_type": "markdown",
      "source": [
        "程式設計期末考實作題\n",
        "題目說明：\n",
        "有七個城市，程式名請自取，這裡以A,B,C,D,E,F,G來表示。\n",
        "有一位旅客開車要遊歷這七座城市，每一座城市只能停留住宿一晚，且只能進出一次，遊歷的起始點及順序可自行決定。\n",
        "遊歷過程中需要花費項目：油錢(每公里為單位)、城市一晚住宿飲食的費用。\n",
        "兩城市之間的距離以直線做計算。\n",
        "城市資訊：\n",
        "油錢：100元/公里\n",
        "A：座標(0,0)、 名稱：Ａ、食宿一晚費用：2000元(若上一站從Ｃ、Ｇ前來折扣80%)\n",
        "B：座標(0,120)、 名稱：Ｂ、食宿一晚費用：2400元(若上一站從Ｄ、Ｅ前來折扣80%)\n",
        "C：座標(30,100)、 名稱：Ｃ、食宿一晚費用：2400元(若上一站從Ｇ、Ａ前來折扣80%)\n",
        "D：座標(80,0)、 名稱：Ｄ、食宿一晚費用：1600元(若上一站從Ａ、Ｂ前來折扣80%)\n",
        "E：座標(45,10)、 名稱：Ｅ、食宿一晚費用：1500元(若上一站從Ｂ、Ｆ前來折扣80%)\n",
        "F：座標(90,160)、 名稱：Ｆ、食宿一晚費用：2200元(若上一站從Ａ、Ｃ前來折扣80%)\n",
        "G：座標(120,200)、 名稱：Ｇ、食宿一晚費用：1200元(若上一站從Ｅ、Ｆ前來折扣80%)\n",
        "問題：\n",
        "請找出此趟遊歷行程花費最便宜的旅遊方案。"
      ],
      "metadata": {
        "id": "H74jJjhBxxU2"
      }
    },
    {
      "cell_type": "code",
      "execution_count": 34,
      "metadata": {
        "colab": {
          "base_uri": "https://localhost:8080/"
        },
        "id": "wUlB_H0UrmDH",
        "outputId": "eba4bbdb-1500-4776-e34d-c902bc056460"
      },
      "outputs": [
        {
          "output_type": "stream",
          "name": "stdout",
          "text": [
            "最便宜旅遊順序: D -> E -> A -> C -> B -> F -> G\n",
            "總旅費: 47924.54275945734\n"
          ]
        }
      ],
      "source": [
        "import math\n",
        "\n",
        "class City:\n",
        "    def __init__(self, name, coordinates, accommodation_cost):\n",
        "        self.name = name\n",
        "        self.coordinates = coordinates\n",
        "        self.accommodation_cost = accommodation_cost\n",
        "\n",
        "    def calculate_discounted_cost(self, previous_city):\n",
        "        if previous_city in ['A' , 'B']:\n",
        "            return 0.8 * self.accommodation_cost\n",
        "        else:\n",
        "            return self.accommodation_cost\n",
        "\n",
        "\n",
        "def calculate_distance(city1, city2):\n",
        "    x1, y1 = city1.coordinates\n",
        "    x2, y2 = city2.coordinates\n",
        "    return math.sqrt((x2 - x1)**2 + (y2 - y1)**2)\n",
        "def find_cheapest_route(start_city):\n",
        "    cities = {\n",
        "        'A': City('A', (0, 0), 2000),\n",
        "        'B': City('B', (0, 120), 2400),\n",
        "        'C': City('C', (30, 100), 2400),\n",
        "        'D': City('D', (80, 0), 1600),\n",
        "        'E': City('E', (45, 10), 1500),\n",
        "        'F': City('F', (90, 160), 2200),\n",
        "        'G': City('G', (120, 200), 1200)\n",
        "    }\n",
        "\n",
        "    num_cities = len(cities)\n",
        "    distance_matrix = [[0] * num_cities for _ in range(num_cities)]\n",
        "    city_keys = list(cities.keys())\n",
        "    for x in range(num_cities):\n",
        "        for o in range(num_cities):\n",
        "            distance_matrix[x][o] = calculate_distance(cities[city_keys[x]], cities[city_keys[o]])\n",
        "\n",
        "\n",
        "    route = [start_city]\n",
        "    total_cost = 0\n",
        "\n",
        "    current_city = start_city\n",
        "    unvisited_cities = set(cities.keys()) - {start_city}\n",
        "\n",
        "    while unvisited_cities:\n",
        "        next_city = min(unvisited_cities, key=lambda city: calculate_distance(cities[current_city], cities[city]))\n",
        "        total_cost += calculate_distance(cities[current_city], cities[next_city]) * 100 + cities[next_city].calculate_discounted_cost(current_city)\n",
        "        route.append(next_city)\n",
        "        unvisited_cities.remove(next_city)\n",
        "        current_city = next_city\n",
        "\n",
        "\n",
        "    return route, total_cost\n",
        "\n",
        "start_city = 'D'\n",
        "route, total_cost = find_cheapest_route(start_city)\n",
        "\n",
        "print(\"最便宜旅遊順序:\", \" -> \".join(route))\n",
        "print(\"總旅費:\", total_cost)\n",
        "\n",
        "\n"
      ]
    }
  ]
}