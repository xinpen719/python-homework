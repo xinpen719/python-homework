{
  "nbformat": 4,
  "nbformat_minor": 0,
  "metadata": {
    "colab": {
      "provenance": [],
      "authorship_tag": "ABX9TyOIE7lKew77dJcbfUan4T+K",
      "include_colab_link": true
    },
    "kernelspec": {
      "name": "python3",
      "display_name": "Python 3"
    },
    "language_info": {
      "name": "python"
    }
  },
  "cells": [
    {
      "cell_type": "markdown",
      "metadata": {
        "id": "view-in-github",
        "colab_type": "text"
      },
      "source": [
        "<a href=\"https://colab.research.google.com/github/xinpen719/python-homework/blob/main/%E4%BD%9C%E6%A5%AD%E5%9B%9B.ipynb\" target=\"_parent\"><img src=\"https://colab.research.google.com/assets/colab-badge.svg\" alt=\"Open In Colab\"/></a>"
      ]
    },
    {
      "cell_type": "code",
      "execution_count": 15,
      "metadata": {
        "colab": {
          "base_uri": "https://localhost:8080/"
        },
        "id": "3LJJDZXeGFyg",
        "outputId": "7caf1d94-1cd3-4f64-ed4c-76218dd2c266"
      },
      "outputs": [
        {
          "output_type": "stream",
          "name": "stdout",
          "text": [
            "Looking in indexes: https://pypi.org/simple, https://us-python.pkg.dev/colab-wheels/public/simple/\n",
            "Requirement already satisfied: openpyxl in /usr/local/lib/python3.10/dist-packages (3.0.10)\n",
            "Requirement already satisfied: et-xmlfile in /usr/local/lib/python3.10/dist-packages (from openpyxl) (1.1.0)\n",
            "Drive already mounted at /content/drive; to attempt to forcibly remount, call drive.mount(\"/content/drive\", force_remount=True).\n"
          ]
        }
      ],
      "source": [
        "!pip install openpyxl\n",
        "import csv\n",
        "import openpyxl\n",
        "from google.colab import drive\n",
        "drive.mount('/content/drive')\n",
        "import os\n",
        "os.chdir('/content/drive/MyDrive/Colab Notebooks')\n",
        "\n",
        "csvfile = open('population.csv')    \n",
        "raw_data = csv.reader(csvfile)     \n",
        "data = list(raw_data)              \n",
        "\n",
        "wb = openpyxl.Workbook()           \n",
        "sheet = wb.create_sheet('csv')     \n",
        "for i in data:\n",
        "    sheet.append(i)                \n",
        "\n",
        "wb.save('excel-read.xlsx')"
      ]
    },
    {
      "cell_type": "code",
      "source": [
        "import openpyxl\n",
        "wb = openpyxl.load_workbook('excel-read.xlsx')     # 開啟 Excel 檔案\n",
        "wb = openpyxl.load_workbook('excel-read.xlsx', data_only=True)\n",
        "\n",
        "names = wb.sheetnames    # 讀取 Excel 裡所有工作表名稱\n",
        "s1 = wb['csv']        # 取得工作表名稱為「工作表1」的內容\n",
        "s2 = wb.active           # 取得開啟試算表後立刻顯示的工作表 ( 範例為工作表 2 )\n",
        "\n",
        "def get_values(csv):\n",
        "    a = []                      # 第一層串列\n",
        "    for r in sheet:\n",
        "        a2 = []                 # 第二層串列\n",
        "        for c in r:\n",
        "            a2.append(c.value)  # 寫入內容\n",
        "        a.append(a2)\n",
        "    return a\n",
        "\n",
        "print(get_values(s1))       # 印出工作表 1 所有內容\n"
      ],
      "metadata": {
        "id": "mbsauJ6GKAub",
        "colab": {
          "base_uri": "https://localhost:8080/"
        },
        "outputId": "0df9ae4d-7b5f-42bb-f2d0-5833200a01d5"
      },
      "execution_count": 29,
      "outputs": [
        {
          "output_type": "stream",
          "name": "stdout",
          "text": [
            "[['year', 'pop'], ['1950', '2.53'], ['1951', '2.57'], ['1952', '2.62'], ['1953', '2.67'], ['1954', '2.71'], ['1955', '2.76'], ['1956', '2.81'], ['1957', '2.86'], ['1958', '2.92'], ['1959', '2.97'], ['1960', '3.03'], ['1961', '3.08'], ['1962', '3.14'], ['1963', '3.2'], ['1964', '3.26'], ['1965', '3.33'], ['1966', '3.4'], ['1967', '3.47'], ['1968', '3.54'], ['1969', '3.62'], ['1970', '3.69'], ['1971', '3.77'], ['1972', '3.84'], ['1973', '3.92'], ['1974', '4.0'], ['1975', '4.07'], ['1976', '4.15'], ['1977', '4.22'], ['1978', '4.3'], ['1979', '4.37'], ['1980', '4.45'], ['1981', '4.53'], ['1982', '4.61'], ['1983', '4.69'], ['1984', '4.78'], ['1985', '4.86'], ['1986', '4.95'], ['1987', '5.05'], ['1988', '5.14'], ['1989', '5.23'], ['1990', '5.32'], ['1991', '5.41'], ['1992', '5.49'], ['1993', '5.58'], ['1994', '5.66'], ['1995', '5.74'], ['1996', '5.82'], ['1997', '5.9'], ['1998', '5.98'], ['1999', '6.05'], ['2000', '6.13'], ['2001', '6.2'], ['2002', '6.28'], ['2003', '6.36'], ['2004', '6.44'], ['2005', '6.51'], ['2006', '6.59'], ['2007', '6.67'], ['2008', '6.75'], ['2009', '6.83'], ['2010', '6.92'], ['2011', '7.0'], ['2012', '7.08'], ['2013', '7.16'], ['2014', '7.24'], ['2015', '7.32'], ['2016', '7.4'], ['2017', '7.48'], ['2018', '7.56'], ['2019', '7.64'], ['2020', '7.72'], ['2021', '7.79'], ['2022', '7.87'], ['2023', '7.94'], ['2024', '8.01'], ['2025', '8.08'], ['2026', '8.15'], ['2027', '8.22'], ['2028', '8.29'], ['2029', '8.36'], ['2030', '8.42'], ['2031', '8.49'], ['2032', '8.56'], ['2033', '8.62'], ['2034', '8.68'], ['2035', '8.74'], ['2036', '8.8'], ['2037', '8.86'], ['2038', '8.92'], ['2039', '8.98'], ['2040', '9.04'], ['2041', '9.09'], ['2042', '9.15'], ['2043', '9.2'], ['2044', '9.26'], ['2045', '9.31'], ['2046', '9.36'], ['2047', '9.41'], ['2048', '9.46'], ['2049', '9.5'], ['2050', '9.55'], ['2051', '9.6'], ['2052', '9.64'], ['2053', '9.68'], ['2054', '9.73'], ['2055', '9.77'], ['2056', '9.81'], ['2057', '9.85'], ['2058', '9.88'], ['2059', '9.92'], ['2060', '9.96'], ['2061', '9.99'], ['2062', '10.03'], ['2063', '10.06'], ['2064', '10.09'], ['2065', '10.13'], ['2066', '10.16'], ['2067', '10.19'], ['2068', '10.22'], ['2069', '10.25'], ['2070', '10.28'], ['2071', '10.31'], ['2072', '10.33'], ['2073', '10.36'], ['2074', '10.38'], ['2075', '10.41'], ['2076', '10.43'], ['2077', '10.46'], ['2078', '10.48'], ['2079', '10.5'], ['2080', '10.52'], ['2081', '10.55'], ['2082', '10.57'], ['2083', '10.59'], ['2084', '10.61'], ['2085', '10.63'], ['2086', '10.65'], ['2087', '10.66'], ['2088', '10.68'], ['2089', '10.7'], ['2090', '10.72'], ['2091', '10.73'], ['2092', '10.75'], ['2093', '10.77'], ['2094', '10.78'], ['2095', '10.79'], ['2096', '10.81'], ['2097', '10.82'], ['2098', '10.83'], ['2099', '10.84'], ['2100', '10.85']]\n"
          ]
        }
      ]
    },
    {
      "cell_type": "code",
      "source": [
        "from datetime import date\n",
        "from openpyxl import Workbook\n",
        "from openpyxl.chart import LineChart, Reference\n",
        "from openpyxl.chart.axis import DateAxis\n",
        "\n",
        "# 新增 Excel 活頁簿\n",
        "wb = Workbook()\n",
        "\n",
        "# 取得目前工作表\n",
        "ws = wb.active\n",
        "\n",
        "# 建立測試資料\n",
        "rows = [\n",
        "    ['Date', 'Batch 1', 'Batch 2', 'Batch 3'],\n",
        "    [date(2015,9, 1), 40, 30, 25],\n",
        "    [date(2015,9, 2), 40, 25, 30],\n",
        "    [date(2015,9, 3), 50, 30, 45],\n",
        "    [date(2015,9, 4), 30, 25, 40],\n",
        "    [date(2015,9, 5), 25, 35, 30],\n",
        "    [date(2015,9, 6), 20, 40, 35],\n",
        "]\n",
        "\n",
        "# 將測試資料填入 Excel 工作表\n",
        "for row in rows:\n",
        "    ws.append(row)\n",
        "\n",
        "# 建立折線圖\n",
        "chart = LineChart()\n",
        "chart.title = \"Line Chart\"\n",
        "chart.style = 13\n",
        "chart.y_axis.title = 'Size'\n",
        "chart.x_axis.title = 'Test Number'\n",
        "\n",
        "# 參照值\n",
        "data = Reference(ws, min_col=2, min_row=1, max_col=4, max_row=7)\n",
        "chart.add_data(data, titles_from_data=True)\n",
        "\n",
        "# 設定第 1 條線的樣式\n",
        "s1 = chart.series[0]\n",
        "s1.marker.symbol = \"triangle\" # 三角形\n",
        "s1.marker.graphicalProperties.solidFill = \"FF0000\" # 填滿顏色\n",
        "s1.marker.graphicalProperties.line.solidFill = \"FF0000\" # 外框線條顏色\n",
        "s1.graphicalProperties.line.noFill = True\n",
        "\n",
        "# 設定第 2 條線的樣式\n",
        "s2 = chart.series[1]\n",
        "s2.graphicalProperties.line.solidFill = \"00AAAA\"\n",
        "s2.graphicalProperties.line.dashStyle = \"sysDot\"\n",
        "s2.graphicalProperties.line.width = 100050 # 線條寬度，單位為 EMUs\n",
        "\n",
        "# 設定第 3 條線的樣式\n",
        "s3 = chart.series[2]\n",
        "s3.smooth = True # 讓線條平滑\n",
        "\n",
        "# 將圖形放置在 A9 儲存格位置\n",
        "ws.add_chart(chart, \"A9\")\n",
        "\n",
        "# 儲存 Excel 檔案\n",
        "wb.save(\"line.xlsx\")"
      ],
      "metadata": {
        "id": "9biLEummUGQh"
      },
      "execution_count": null,
      "outputs": []
    }
  ]
}