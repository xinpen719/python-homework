{
  "nbformat": 4,
  "nbformat_minor": 0,
  "metadata": {
    "colab": {
      "provenance": [],
      "authorship_tag": "ABX9TyPRxzbJKKX9DrOiXdG1mjEi",
      "include_colab_link": true
    },
    "kernelspec": {
      "name": "python3",
      "display_name": "Python 3"
    },
    "language_info": {
      "name": "python"
    }
  },
  "cells": [
    {
      "cell_type": "markdown",
      "metadata": {
        "id": "view-in-github",
        "colab_type": "text"
      },
      "source": [
        "<a href=\"https://colab.research.google.com/github/xinpen719/python-homework/blob/main/%E4%BD%9C%E6%A5%AD%E4%BA%8C.ipynb\" target=\"_parent\"><img src=\"https://colab.research.google.com/assets/colab-badge.svg\" alt=\"Open In Colab\"/></a>"
      ]
    },
    {
      "cell_type": "code",
      "execution_count": null,
      "metadata": {
        "colab": {
          "base_uri": "https://localhost:8080/"
        },
        "id": "4UosZ_bZQMgD",
        "outputId": "74f675b1-41f5-47a0-a51f-cabd93a66cbd"
      },
      "outputs": [
        {
          "output_type": "stream",
          "name": "stdout",
          "text": [
            "不包含空白共有 127 個字元\n",
            "大道之行也\n",
            " 天下為公\n",
            "選 賢與能\n",
            " 講信修睦\n",
            "故人不獨親其親 \n",
            "不獨子其子\n",
            "使 老有所終\n",
            "壯有所用\n",
            "幼有 所長\n",
            "矜寡孤獨廢疾者\n",
            "皆有所養\n",
            "男有 分女有歸\n",
            "貨惡其棄 於地也不必藏於己\n",
            "力惡其不出 於身也不必為己\n",
            "是故謀 閉而不興\n",
            "盜竊 亂賊而不作\n",
            "故外戶而 不閉\n",
            "是謂「大同」\n",
            "\n",
            "一共有 8 個不\n"
          ]
        }
      ],
      "source": [
        "\n",
        "#1.算出字元幾個？(空白去除) 2.標點符號為分割點，將文章分行顯示 3.算出“不”有多少個字？\n",
        "#大道之行也， 天下為公。選 賢與能， 講信修睦。故人不獨親其親 ，不獨子其子；使 老有所終，壯有所用，幼有 所長，矜寡孤獨廢疾者，皆有所養；男有 分女有歸。貨惡其棄 於地也不必藏於己；力惡其不出 於身也不必為己。是故謀 閉而不興，盜竊 亂賊而不作，故外戶而 不閉，是謂「大同」。\n",
        "\n",
        "a=\"\"\"大道之行也， 天下為公。選 賢與能， 講信修睦。故人不獨親其親 ，不獨子其子；使 老有所終，壯有所用，幼有 所長，矜寡孤獨廢疾者，皆有所養；男有 分女有歸。貨惡其棄 於地也不必藏於己；力惡其不出 於身也不必為己。是故謀 閉而不興，盜竊 亂賊而不作，故外戶而 不閉，是謂「大同」。\"\"\"\n",
        "b=\"\\n\".join(a.split(\"，\"))\n",
        "c=\"\\n\".join(b.split(\"。\"))\n",
        "d=\"\\n\".join(c.split(\"；\"))\n",
        "\n",
        "print(\"不包含空白共有\",len(a.replace(\" \",\"\")),\"個字元\")\n",
        "print(d)\n",
        "print(\"一共有\",a.count(\"不\"),\"個不\")"
      ]
    }
  ]
}